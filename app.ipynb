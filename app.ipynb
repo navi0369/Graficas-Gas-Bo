{
 "cells": [
  {
   "cell_type": "code",
   "execution_count": 2,
   "metadata": {},
   "outputs": [
    {
     "data": {
      "text/html": [
       "\n",
       "        <iframe\n",
       "            width=\"100%\"\n",
       "            height=\"650\"\n",
       "            src=\"http://127.0.0.1:4050/\"\n",
       "            frameborder=\"0\"\n",
       "            allowfullscreen\n",
       "            \n",
       "        ></iframe>\n",
       "        "
      ],
      "text/plain": [
       "<IPython.lib.display.IFrame at 0x2b85681b4a0>"
      ]
     },
     "metadata": {},
     "output_type": "display_data"
    }
   ],
   "source": [
    "import dash\n",
    "from dash import dcc, html\n",
    "import dash_bootstrap_components as dbc\n",
    "import pandas as pd\n",
    "import plotly.express as px\n",
    "import plotly.graph_objects as go\n",
    "\n",
    "# Datos\n",
    "año = [2005 + i for i in range(19)]\n",
    "e_petroleo = [\n",
    "    15416919, 14881796, 15027399, 14233450, 12328866, 12607468, 12957860,\n",
    "    15085772, 17334291, 18639623, 17907265, 16572386, 15722295, 14656979,\n",
    "    12973942, 11770554, 11438199, 10189299, 8599810\n",
    "]\n",
    "e_gas = [\n",
    "    12535.69, 13433.54, 14301.38, 14895.13, 12786.80, 14922.73, 16185.96,\n",
    "    18475.14, 21021.44, 22187.95, 21998.81, 21144.53, 20531.91, 19178.87,\n",
    "    16893.15, 16254.38, 16968.82, 15400.89, 13390.41\n",
    "]\n",
    "exportaciones_brasil_gn = [\n",
    "    1400.9, 1619.4, 1453.9, 1020.5, 1285.6, 1643.3, 1363.3\n",
    "]\n",
    "e_gdolares = [\n",
    "    1086.5, 1667.8, 1971.2, 3159.1, 1967.6, 2797.8, 3884.9, 5478.5, 6113.4,\n",
    "    6011.1, 3770.4, 2049.1, 2581.3, 2970.4, 2719.9, 1989.3, 2249.1, 2973.4,\n",
    "    2049.7\n",
    "]\n",
    "p_gas = [\n",
    "    8.92, 6.72, 6.98, 8.86, 3.95, 4.39, 4.00, 2.75, 3.72, 4.37, 2.61, 2.49,\n",
    "    2.96, 3.16, 2.57, 2.01, 3.85, 6.37, 2.54\n",
    "]\n",
    "\n",
    "# Crear DataFrame\n",
    "df = pd.DataFrame({\n",
    "    'Año': año,\n",
    "    'Exportacion de petroleo (bariles)': e_petroleo,\n",
    "    'Exportacion de gas (millones metros cubicos)': e_gas,\n",
    "    'exp gn brasil (millones de dolares)': [None] * len(año),\n",
    "    'exportaciones gas (millones de dolares)': e_gdolares\n",
    "})\n",
    "df.set_index('Año', inplace=True)\n",
    "df.loc[2017:2024, 'exp gn brasil (millones de dolares)'] = exportaciones_brasil_gn\n",
    "\n",
    "# Crear gráficos\n",
    "fig1 = px.line(df, y='Exportacion de petroleo (bariles)', title='Exportaciones Petróleo (bariles)')\n",
    "fig2 = px.line(df, y='Exportacion de gas (millones metros cubicos)', title='Exportaciones de Gas Natural (millones m³)')\n",
    "fig3 = go.Figure()\n",
    "fig3.add_trace(go.Scatter(x=df.index, y=df['exportaciones gas (millones de dolares)'], mode='lines', name='Exportación de Gas'))\n",
    "fig3.add_trace(go.Scatter(x=df.index, y=df['exp gn brasil (millones de dolares)'], mode='lines', name='Exportación de Gas a Brasil'))\n",
    "fig3.update_layout(title='Exportaciones de Gas Natural en Millones de Dólares (USD)')\n",
    "\n",
    "fig4 = px.line(x=año, y=p_gas, title='Precio de Mercado del Gas en Dólares ($/mmbtu)',\n",
    "    labels={\n",
    "        'x': 'Año',         # Etiqueta del eje x\n",
    "        'y': 'Precio ($/mmbtu)'  # Etiqueta del eje y\n",
    "    })\n",
    "\n",
    "# Aplicación Dash\n",
    "app = dash.Dash(__name__, external_stylesheets=[dbc.themes.BOOTSTRAP])\n",
    "\n",
    "app.layout = dbc.Container([\n",
    "    dbc.Row([dbc.Col(html.H1(\"Dashboard de Exportaciones\"), className=\"mb-3\")]),\n",
    "    dbc.Row([dbc.Col(dcc.Graph(figure=fig1), className=\"mb-3\")]),\n",
    "    dbc.Row([dbc.Col(dcc.Graph(figure=fig2), className=\"mb-3\")]),\n",
    "    dbc.Row([dbc.Col(dcc.Graph(figure=fig3), className=\"mb-3\")]),\n",
    "    dbc.Row([dbc.Col(dcc.Graph(figure=fig4), className=\"mb-3\")]),\n",
    "], fluid=True)\n",
    "\n",
    "if __name__ == '__main__':\n",
    "    app.run_server(port=4050,debug=True)"
   ]
  }
 ],
 "metadata": {
  "kernelspec": {
   "display_name": "env",
   "language": "python",
   "name": "python3"
  },
  "language_info": {
   "codemirror_mode": {
    "name": "ipython",
    "version": 3
   },
   "file_extension": ".py",
   "mimetype": "text/x-python",
   "name": "python",
   "nbconvert_exporter": "python",
   "pygments_lexer": "ipython3",
   "version": "3.12.2"
  }
 },
 "nbformat": 4,
 "nbformat_minor": 2
}
